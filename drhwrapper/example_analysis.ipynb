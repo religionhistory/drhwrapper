{
 "cells": [
  {
   "cell_type": "markdown",
   "metadata": {},
   "source": [
    "# Example Analysis\n",
    "This is an example analysis to showcase the functionality of the Python wrapper for the Database of Religious History (DRH) API. We will curate a small dataset to investigate the relationship between internal and external conflict (predictors) and permanent scarring or painful bodily alterations (outcome). Then we will run simple analysis on this data and visualize temporal and regional effects. The analysis is inspired by Sosis et al. (2007)"
   ]
  },
  {
   "cell_type": "code",
   "execution_count": 6,
   "metadata": {},
   "outputs": [],
   "source": [
    "import numpy as np\n",
    "import pandas as pd\n",
    "pd.options.mode.chained_assignment = None  # default='warn'\n",
    "from drhwrapper import DRHWrapper\n",
    "\n",
    "drh = DRHWrapper(\"religiondatabase.org/public-api\")"
   ]
  },
  {
   "cell_type": "markdown",
   "metadata": {},
   "source": [
    "## 1. Curate Data\n",
    "We will start by defining and requesting the relevant variables through the API for the Database of Religious History (DRH)."
   ]
  },
  {
   "cell_type": "code",
   "execution_count": 2,
   "metadata": {},
   "outputs": [],
   "source": [
    "# all the relevant question names\n",
    "# can be found by browsing: https://religiondatabase.org/\n",
    "question_names = [\n",
    "    \"Are other religious groups in cultural contact with target religion:\",\n",
    "    \"Is there violent conflict (within sample region):\",\n",
    "    \"Is there violent conflict (with groups outside the sample region):\",\n",
    "    \"Does membership in this religious group require permanent scarring or painful bodily alterations:\",\n",
    "]"
   ]
  },
  {
   "cell_type": "code",
   "execution_count": 3,
   "metadata": {},
   "outputs": [],
   "source": [
    "# for each of these questions get the answersets\n",
    "# this will take a minute or two\n",
    "answerset_list = []\n",
    "for question_name in question_names:\n",
    "    answerset = drh.get_answerset(question_name=question_name, to_dataframe=True)\n",
    "    answerset[\"question_name\"] = question_name\n",
    "    answerset_list.append(answerset)\n",
    "\n",
    "# concatenate the answersets\n",
    "answerset_df = pd.concat(answerset_list)"
   ]
  },
  {
   "cell_type": "code",
   "execution_count": 4,
   "metadata": {},
   "outputs": [],
   "source": [
    "# only take religious groups\n",
    "answerset_df[\"poll_name\"].unique()  # have both group and place polls\n",
    "answerset_groups = answerset_df[answerset_df[\"poll_name\"].str.contains(\"Group\")]\n"
   ]
  },
  {
   "cell_type": "code",
   "execution_count": 7,
   "metadata": {},
   "outputs": [],
   "source": [
    "# different question ID for corresponding questions\n",
    "# for Group V5 and Group V6 Questions\n",
    "# can use the .get_related_questions() method\n",
    "# (although in this case this is not strictly necessary)\n",
    "related_questions = drh.get_related_questions()\n",
    "answerset_groups[\"related_question_id\"] = answerset_groups[\"question_id\"].map(\n",
    "    related_questions.set_index(\"question_id\")[\"related_question_id\"]\n",
    ")\n",
    "answerset_groups = answerset_groups.drop(columns=[\"question_id\"])\n",
    "answerset_groups = answerset_groups.rename(\n",
    "    columns={\"related_question_id\": \"question_id\"}\n",
    ")"
   ]
  },
  {
   "cell_type": "code",
   "execution_count": 8,
   "metadata": {},
   "outputs": [],
   "source": [
    "# select only yes/no answers\n",
    "# answer_value more accurate than answer_name\n",
    "# because sometimes answer_name will be a non-English character\n",
    "answerset_groups = answerset_groups[answerset_groups[\"answer_value\"].isin([0, 1])]\n"
   ]
  },
  {
   "cell_type": "markdown",
   "metadata": {},
   "source": [
    "### select only consistent answers\n",
    "\n",
    "Possible to multiple answers for one religious group to one question.\n",
    "This can happen for the following reasons: \n",
    "1) different time periods\n",
    "2) different regions\n",
    "3) different subgroups (e.g., elite, common)\n",
    "4) different experts\n",
    "5) scholarly disagreement or flexibility in religious beliefs/practices\n",
    "Here we will only take cases that have a single consistent answer.\n"
   ]
  },
  {
   "cell_type": "code",
   "execution_count": 9,
   "metadata": {},
   "outputs": [],
   "source": [
    "# we need to do this because around 50% of the cases\n",
    "# where we have multiple answers to the same question\n",
    "# for the same religious group, the answers are the same\n",
    "# (e.g., \"Yes\" and \"Yes\") but sometimes for different\n",
    "# time periods, regions, or sub-groups.\n",
    "answerset_simple = answerset_groups[\n",
    "    [\n",
    "        \"entry_id\",\n",
    "        \"entry_name\",\n",
    "        \"poll_name\",\n",
    "        \"answer_value\",\n",
    "        \"question_id\",\n",
    "        \"question_name\",\n",
    "    ]\n",
    "].drop_duplicates()"
   ]
  },
  {
   "cell_type": "code",
   "execution_count": 10,
   "metadata": {},
   "outputs": [
    {
     "name": "stdout",
     "output_type": "stream",
     "text": [
      "n=14 cases with inconsistent answers out of n=2790 total answers\n"
     ]
    }
   ],
   "source": [
    "# now find the cases where we have inconsistent answers\n",
    "groups_answers = (\n",
    "    answerset_simple.groupby([\"entry_id\", \"question_id\"])\n",
    "    .size()\n",
    "    .reset_index(name=\"count\")\n",
    ")\n",
    "inconsistent_answers = groups_answers[groups_answers[\"count\"] > 1][\n",
    "    [\"entry_id\", \"question_id\"]\n",
    "].reset_index(drop=True)\n",
    "\n",
    "# print the number of cases with inconsistent answers\n",
    "print(\n",
    "    f\"n={len(inconsistent_answers)} cases with inconsistent answers out of n={len(answerset_simple)} total answers\"\n",
    ")"
   ]
  },
  {
   "cell_type": "markdown",
   "metadata": {},
   "source": [
    "Example of case where we have inconsistent answers:  \n",
    "Late Choson Korea (Entry ID: 228) has a \"Yes\" for the question\n",
    "\"Are other religious groups in cultural contact with target religion:\"\n",
    "for \"Elite\" but a \"No\" answer for \"Non-elite (common people, general populace)\".\n",
    "\n",
    "When we observe inconsistency for the super-question (the one above)\n",
    "we will also remove the sub-questions for the religious group in question\n",
    "In this case these are: \n",
    "1) \"Is there violent conflict (within sample region):\"\n",
    "2) \"Is there violent conflict (with groups outside the sample region):\""
   ]
  },
  {
   "cell_type": "code",
   "execution_count": 11,
   "metadata": {},
   "outputs": [
    {
     "name": "stdout",
     "output_type": "stream",
     "text": [
      "n=20 cases with inconsistent answers out of n=2790 total answers\n"
     ]
    }
   ],
   "source": [
    "# flag sub-questions for inconsistent super-questions\n",
    "superquestion = 2316  # cultural contact\n",
    "subquestions = [2256, 2305]  # internal and external conflict\n",
    "new_rows = []\n",
    "for index, row in inconsistent_answers.iterrows():\n",
    "    entry_id = row[\"entry_id\"]\n",
    "    question_id = row[\"question_id\"]\n",
    "    if question_id == superquestion:\n",
    "        new_rows.append({\"entry_id\": entry_id, \"question_id\": subquestions[0]})\n",
    "        new_rows.append({\"entry_id\": entry_id, \"question_id\": subquestions[1]})\n",
    "df_new_rows = pd.DataFrame(new_rows)\n",
    "inconsistent_answers = pd.concat([inconsistent_answers, df_new_rows]).reset_index(\n",
    "    drop=True\n",
    ")\n",
    "\n",
    "# print updated number of cases with inconsistent answers\n",
    "print(\n",
    "    f\"n={len(inconsistent_answers)} cases with inconsistent answers out of n={len(answerset_simple)} total answers\"\n",
    ")"
   ]
  },
  {
   "cell_type": "code",
   "execution_count": 12,
   "metadata": {},
   "outputs": [],
   "source": [
    "# now remove the inconsistent answers\n",
    "answerset_simple = answerset_simple[\n",
    "    ~answerset_simple.set_index([\"entry_id\", \"question_id\"]).index.isin(\n",
    "        inconsistent_answers.set_index([\"entry_id\", \"question_id\"]).index\n",
    "    )\n",
    "]"
   ]
  },
  {
   "cell_type": "markdown",
   "metadata": {},
   "source": [
    "### Infer answers for sub-questions\n",
    "\n",
    "If answer to \"cultural contact\" is \"No\" then we can infor that the answer to the 2 sub-questions is also \"No\". In this case the sub-questions are: \n",
    "1) \"Is there violent conflict (within sample region):\"\n",
    "2) \"Is there violent conflict (with groups outside the sample region):\"\n",
    "\n",
    "The trick is that if the answer to the super-question is not \"Yes\" then there will not be a row for the sub-question (no answer). We have to add this row. "
   ]
  },
  {
   "cell_type": "code",
   "execution_count": 13,
   "metadata": {},
   "outputs": [
    {
     "name": "stdout",
     "output_type": "stream",
     "text": [
      "n=46 inferred answers\n"
     ]
    }
   ],
   "source": [
    "answerset_inferred = answerset_simple.copy()\n",
    "answerset_inferred[\"answer_inferred\"] = \"No\"\n",
    "question_names = answerset_inferred.set_index(\"question_id\")[\"question_name\"].to_dict()\n",
    "\n",
    "inferred_rows = []\n",
    "for num, row in answerset_inferred.iterrows():\n",
    "    # only (potentially) infer values if super-question is answered \"No\"\n",
    "    if (row[\"question_id\"] == superquestion) & (row[\"answer_value\"] == 0):\n",
    "        # if the answer to the super-question is \"No\"\n",
    "        # there will not be an answer to the sub-questions\n",
    "        # so we can assume that these are missing and should be inferred\n",
    "        for subquestion in subquestions:\n",
    "            question_name = question_names[subquestion]\n",
    "            inferred_rows.append(\n",
    "                {\n",
    "                    \"entry_id\": entry_id,\n",
    "                    \"entry_name\": row[\"entry_name\"],\n",
    "                    \"poll_name\": row[\"poll_name\"],\n",
    "                    \"answer_value\": 0,\n",
    "                    \"question_id\": subquestion,\n",
    "                    \"question_name\": question_name,\n",
    "                    \"answer_inferred\": \"Yes\",\n",
    "                }\n",
    "            )\n",
    "\n",
    "inferred_df = pd.DataFrame(inferred_rows)\n",
    "print(f\"n={len(inferred_df)} inferred answers\")  \n",
    "\n",
    "# add the inferred answers to the dataset\n",
    "answerset_inferred = pd.concat([answerset_inferred, inferred_df]).reset_index(drop=True)"
   ]
  },
  {
   "cell_type": "markdown",
   "metadata": {},
   "source": [
    "## 2. Analyze Data\n",
    "\n",
    "Following Sosis et al. (2007) we need: \n",
    "- external conflict (we already have this)\n",
    "- internal conflict **only** (we need to code this)"
   ]
  },
  {
   "cell_type": "code",
   "execution_count": 15,
   "metadata": {},
   "outputs": [],
   "source": [
    "# assign shorthands for the question names (for convenience)\n",
    "questions_short = {\n",
    "    2316: \"Cultural Contact\",\n",
    "    3122: \"Permanent Scarring or Painful Bodily Alterations\",\n",
    "    2305: \"External Violent Conflict\",\n",
    "    2256: \"Internal Violent Conflict\",\n",
    "}\n",
    "answerset_inferred[\"question_short\"] = answerset_inferred[\"question_id\"].map(\n",
    "    questions_short\n",
    ")"
   ]
  },
  {
   "cell_type": "code",
   "execution_count": 16,
   "metadata": {},
   "outputs": [],
   "source": [
    "# expand dataset to code internal conflict\n",
    "answerset_expanded = answerset_inferred.pivot(\n",
    "    index=[\"entry_id\", \"entry_name\"],\n",
    "    columns=\"question_short\",\n",
    "    values=\"answer_value\",\n",
    ").reset_index()"
   ]
  },
  {
   "cell_type": "code",
   "execution_count": 17,
   "metadata": {},
   "outputs": [],
   "source": [
    "# code internal conflict\n",
    "answerset_expanded[\"Internal Conflict Only\"] = np.where(\n",
    "    # if any is nan then the result is nan\n",
    "    (answerset_expanded[\"Internal Violent Conflict\"].isna())\n",
    "    | (answerset_expanded[\"External Violent Conflict\"].isna()),\n",
    "    np.nan,\n",
    "    # else if internal conflict is 1 and external conflict is 0\n",
    "    np.where(\n",
    "        (answerset_expanded[\"Internal Violent Conflict\"] == 1)\n",
    "        & (answerset_expanded[\"External Violent Conflict\"] == 0),\n",
    "        1,\n",
    "        0,\n",
    "    ),\n",
    ")"
   ]
  },
  {
   "cell_type": "code",
   "execution_count": 18,
   "metadata": {},
   "outputs": [],
   "source": [
    "# now we can run simple analysis\n",
    "from scipy.stats import chi2_contingency\n",
    "\n",
    "\n",
    "def calc_chi2(answerset, outcome, predictor):\n",
    "    contingency = pd.crosstab(answerset[outcome], answerset[predictor])\n",
    "    chi2, p, _, _ = chi2_contingency(contingency)\n",
    "    return chi2, p"
   ]
  },
  {
   "cell_type": "code",
   "execution_count": 21,
   "metadata": {},
   "outputs": [
    {
     "data": {
      "image/png": "[encoded data removed]",
      "text/plain": [
       "<Figure size 800x400 with 2 Axes>"
      ]
     },
     "metadata": {},
     "output_type": "display_data"
    }
   ],
   "source": [
    "# plot the results\n",
    "import matplotlib.pyplot as plt\n",
    "import seaborn as sns\n",
    "\n",
    "fig, ax = plt.subplots(1, 2, figsize=(8, 4))\n",
    "outcome = \"Permanent Scarring or Painful Bodily Alterations\"\n",
    "predictors = [\"External Violent Conflict\", \"Internal Conflict Only\"]\n",
    "palette = sns.color_palette(\"tab10\", n_colors=2)\n",
    "for num, predictor in enumerate(predictors):\n",
    "    # drop missing values\n",
    "    df_subset = answerset_expanded[[outcome, predictor]].dropna()\n",
    "    df_subset = df_subset.sort_values(predictor)\n",
    "    group_counts = df_subset.groupby(predictor).size()\n",
    "\n",
    "    # run chi2 test\n",
    "    chi2, p = calc_chi2(df_subset, outcome, predictor)\n",
    "    chi2_label = f\"χ²={chi2:.2f}; p<0.05\" if p < 0.05 else f\"χ²={chi2:.2f}; ns\"\n",
    "\n",
    "    # plot\n",
    "    sns.barplot(\n",
    "        x=predictor,\n",
    "        y=outcome,\n",
    "        data=df_subset,\n",
    "        ax=ax[num],\n",
    "        hue=predictor,\n",
    "        palette=palette,\n",
    "    )\n",
    "    ax[num].set_xlabel(\"\")\n",
    "    ax[num].set_xticks([0, 1])\n",
    "    ax[num].set_xticklabels(\n",
    "        [f\"{value} (n={n})\" for value, n in zip([\"No\", \"Yes\"], group_counts)]\n",
    "    )\n",
    "    ax[num].set_title(f\"{predictor}\\n({chi2_label})\")\n",
    "    # only label the first plot\n",
    "    if num == 0:\n",
    "        ax[num].set_ylabel(\"Fraction with Permanent Scarring ...\", fontsize=12)\n",
    "    else:\n",
    "        ax[num].set_ylabel(\"\")\n",
    "    ax[num].legend().remove()"
   ]
  },
  {
   "cell_type": "markdown",
   "metadata": {},
   "source": [
    "## 3. Temporal Analysis\n",
    "We now focus only on \"External Violent Conflict\" and \"Permanent Scarring or Painful Bodily Alterations\". "
   ]
  },
  {
   "cell_type": "code",
   "execution_count": 23,
   "metadata": {},
   "outputs": [],
   "source": [
    "# select only the relevant columns and drop nan.\n",
    "external_conflict = answerset_expanded[\n",
    "    [\n",
    "        \"entry_id\",\n",
    "        \"entry_name\",\n",
    "        \"External Violent Conflict\",\n",
    "        \"Permanent Scarring or Painful Bodily Alterations\",\n",
    "    ]\n",
    "].dropna()"
   ]
  },
  {
   "cell_type": "code",
   "execution_count": 24,
   "metadata": {},
   "outputs": [],
   "source": [
    "# merge in temporal information\n",
    "temporal_information = answerset_groups[\n",
    "    [\"entry_id\", \"year_from\", \"year_to\"]\n",
    "].drop_duplicates()\n",
    "\n",
    "external_conflict_temporal = external_conflict.merge(\n",
    "    temporal_information, on=\"entry_id\", how=\"inner\"\n",
    ")"
   ]
  },
  {
   "cell_type": "code",
   "execution_count": 25,
   "metadata": {},
   "outputs": [
    {
     "data": {
      "image/png": "[encoded data removed]",
      "text/plain": [
       "<Figure size 800x400 with 1 Axes>"
      ]
     },
     "metadata": {},
     "output_type": "display_data"
    }
   ],
   "source": [
    "# plot the temporal trend\n",
    "external_conflict_temporal = external_conflict_temporal.sort_values(\n",
    "    \"year_from\"\n",
    ").reset_index(drop=True)\n",
    "\n",
    "# define color mapping\n",
    "color_map = {\n",
    "    (0, 0): \"tab:blue\",  # no conflict, no scarring\n",
    "    (0, 1): \"tab:orange\",  # no conflict, scarring\n",
    "    (1, 0): \"tab:green\",  # conflict, no scarring\n",
    "    (1, 1): \"tab:red\",  # conflict, scarring\n",
    "}\n",
    "\n",
    "# Plot setup\n",
    "fig, ax = plt.subplots(figsize=(8, 4))\n",
    "\n",
    "# Create evenly spaced y-values for the lines\n",
    "y_values = range(len(external_conflict_temporal))\n",
    "\n",
    "# Plot each line using y_values for the y-coordinate\n",
    "for y, row in external_conflict_temporal.iterrows():\n",
    "    # Determine the color based on the combination of the two columns\n",
    "    conflict = row[\"External Violent Conflict\"]\n",
    "    scarring = row[\"Permanent Scarring or Painful Bodily Alterations\"]\n",
    "    color = color_map[(conflict, scarring)]\n",
    "\n",
    "    # Set year_to to year_from + 20 if the difference is less than 20 years\n",
    "    year_to = row.year_to if (row.year_to - row.year_from) >= 20 else row.year_from + 20\n",
    "\n",
    "    # Plot the line with the corresponding color\n",
    "    ax.plot(\n",
    "        [row.year_from, year_to],\n",
    "        [y, y],\n",
    "        color=color,\n",
    "        linewidth=1.2,\n",
    "    )\n",
    "\n",
    "# Remove y ticks and labels as they are not relevant\n",
    "ax.set_yticks([])\n",
    "ax.set_yticklabels([])\n",
    "\n",
    "# Create a custom legend\n",
    "from matplotlib.lines import Line2D\n",
    "\n",
    "legend_elements = [\n",
    "    Line2D([0], [0], color=\"tab:blue\", lw=2, label=\"No Conflict, No Scarring\"),\n",
    "    Line2D([0], [0], color=\"tab:orange\", lw=2, label=\"No Conflict, Scarring\"),\n",
    "    Line2D([0], [0], color=\"tab:green\", lw=2, label=\"Conflict, No Scarring\"),\n",
    "    Line2D([0], [0], color=\"tab:red\", lw=2, label=\"Conflict, Scarring\"),\n",
    "]\n",
    "\n",
    "# Add the legend to the plot\n",
    "ax.legend(handles=legend_elements, loc=\"upper left\", fontsize=12, frameon=False)\n",
    "\n",
    "# Show the plot\n",
    "plt.suptitle(\"Temporal Trends in External Conflict and Scarring\", fontsize=16)\n",
    "plt.tight_layout()\n",
    "plt.show()"
   ]
  },
  {
   "cell_type": "markdown",
   "metadata": {},
   "source": [
    "There is definitely an overweight of more recent religious groups in this analysis (and more generally in the DRH). It is not entirely clear from this figure whether there is a temporal trend in the variables (would need another kind of visualization--or statistical analysis--to really tell)."
   ]
  },
  {
   "cell_type": "markdown",
   "metadata": {},
   "source": [
    "## Regional Analysis"
   ]
  },
  {
   "cell_type": "markdown",
   "metadata": {},
   "source": []
  }
 ],
 "metadata": {
  "kernelspec": {
   "display_name": "drhwrapper",
   "language": "python",
   "name": "python3"
  },
  "language_info": {
   "codemirror_mode": {
    "name": "ipython",
    "version": 3
   },
   "file_extension": ".py",
   "mimetype": "text/x-python",
   "name": "python",
   "nbconvert_exporter": "python",
   "pygments_lexer": "ipython3",
   "version": "3.12.5"
  }
 },
 "nbformat": 4,
 "nbformat_minor": 2
}
