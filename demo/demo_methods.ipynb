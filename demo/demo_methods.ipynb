{
 "cells": [
  {
   "cell_type": "markdown",
   "metadata": {},
   "source": [
    "# 0. Introduction\n",
    "Overview of methods implemented in the DRHWrapper for Python. For most use-cases the answerset will most important. This endpoint is detailed in section X. "
   ]
  },
  {
   "cell_type": "code",
   "execution_count": 1,
   "metadata": {},
   "outputs": [],
   "source": [
    "from drhwrapper import DRHWrapper\n",
    "from datetime import datetime\n",
    "from itertools import islice\n",
    "import pandas as pd \n",
    "drh = DRHWrapper()"
   ]
  },
  {
   "cell_type": "markdown",
   "metadata": {},
   "source": [
    "# 1. List endpoints\n",
    "`list` methods provide less information than `find` methods. They are useful to get an overview because multiple (or all) records can be obtained through 1 call to the API. There are list endpoints for the following data: \n",
    " \n",
    "- entries (`list_entries`)\n",
    "- entry tags (`list_entry_tags`)\n",
    "- regions (`list_regions`)\n",
    "- region tags (`list_region_tags`)\n",
    "\n",
    "`list` methods share some common arguments: \n",
    "- `limit`: maximum number of (entry, region, etc.) to return\n",
    "- `offset`: offset from first match\n",
    "- `start_date`, `end_date`: published after start_date and before end_date\n",
    "- `ordering`: feature to order by.\n",
    "\n",
    "Other arguments are specific to endpoints, e.g.: \n",
    "- `expert`, `created_by`, `approved`, `poll`, `region`, etc.\n",
    "\n",
    "By default, `list_endpoints` will return `pd.DataFrame`. This behavior can be overwritten by setting `to_dataframe` to `False` (returning `dict`)"
   ]
  },
  {
   "cell_type": "markdown",
   "metadata": {},
   "source": [
    "## 1.1. List entries\n",
    "List entries provides meta-data (e.g., date-range, region, expert, etc.) for entries in the DRH. This allows for quick and easy access to metadata for all entries in the DRH ()"
   ]
  },
  {
   "cell_type": "code",
   "execution_count": 2,
   "metadata": {},
   "outputs": [
    {
     "data": {
      "text/html": [
       "<div>\n",
       "<style scoped>\n",
       "    .dataframe tbody tr th:only-of-type {\n",
       "        vertical-align: middle;\n",
       "    }\n",
       "\n",
       "    .dataframe tbody tr th {\n",
       "        vertical-align: top;\n",
       "    }\n",
       "\n",
       "    .dataframe thead th {\n",
       "        text-align: right;\n",
       "    }\n",
       "</style>\n",
       "<table border=\"1\" class=\"dataframe\">\n",
       "  <thead>\n",
       "    <tr style=\"text-align: right;\">\n",
       "      <th></th>\n",
       "      <th>entry_id</th>\n",
       "      <th>entry_name</th>\n",
       "      <th>expert_id</th>\n",
       "      <th>expert_name</th>\n",
       "      <th>poll_id</th>\n",
       "      <th>poll_name</th>\n",
       "      <th>date_created</th>\n",
       "      <th>year_from</th>\n",
       "      <th>year_to</th>\n",
       "      <th>region_id</th>\n",
       "      <th>region_name</th>\n",
       "      <th>tags</th>\n",
       "    </tr>\n",
       "  </thead>\n",
       "  <tbody>\n",
       "    <tr>\n",
       "      <th>0</th>\n",
       "      <td>15</td>\n",
       "      <td>Northern Song</td>\n",
       "      <td>73</td>\n",
       "      <td>Sarah Primmer</td>\n",
       "      <td>8</td>\n",
       "      <td>Polity</td>\n",
       "      <td>2014-04-17T05:00:00Z</td>\n",
       "      <td>960</td>\n",
       "      <td>1127</td>\n",
       "      <td>113</td>\n",
       "      <td>Northern Song</td>\n",
       "      <td>[{'id': 2, 'name': 'Asia', 'approved': True}, ...</td>\n",
       "    </tr>\n",
       "    <tr>\n",
       "      <th>1</th>\n",
       "      <td>23</td>\n",
       "      <td>Late Shang Religion</td>\n",
       "      <td>22</td>\n",
       "      <td>Clayton Ashton</td>\n",
       "      <td>35</td>\n",
       "      <td>Religious Group (v5)</td>\n",
       "      <td>2014-04-17T05:00:00Z</td>\n",
       "      <td>-1250</td>\n",
       "      <td>-1045</td>\n",
       "      <td>7</td>\n",
       "      <td>Middle and Lower Yellow River Valley</td>\n",
       "      <td>[{'id': 8, 'name': 'Religious Group', 'approve...</td>\n",
       "    </tr>\n",
       "    <tr>\n",
       "      <th>2</th>\n",
       "      <td>173</td>\n",
       "      <td>Johannine Christianity</td>\n",
       "      <td>155</td>\n",
       "      <td>Rikard Roitto</td>\n",
       "      <td>35</td>\n",
       "      <td>Religious Group (v5)</td>\n",
       "      <td>2014-11-27T22:05:55Z</td>\n",
       "      <td>90</td>\n",
       "      <td>120</td>\n",
       "      <td>483</td>\n",
       "      <td>Ephesus</td>\n",
       "      <td>[{'id': 8, 'name': 'Religious Group', 'approve...</td>\n",
       "    </tr>\n",
       "    <tr>\n",
       "      <th>3</th>\n",
       "      <td>174</td>\n",
       "      <td>Matthew-James-Didache Movement</td>\n",
       "      <td>156</td>\n",
       "      <td>Vojtech Kase</td>\n",
       "      <td>35</td>\n",
       "      <td>Religious Group (v5)</td>\n",
       "      <td>2014-11-27T22:11:25Z</td>\n",
       "      <td>50</td>\n",
       "      <td>160</td>\n",
       "      <td>352</td>\n",
       "      <td>Syria</td>\n",
       "      <td>[{'id': 8, 'name': 'Religious Group', 'approve...</td>\n",
       "    </tr>\n",
       "    <tr>\n",
       "      <th>4</th>\n",
       "      <td>176</td>\n",
       "      <td>Qumran Movement</td>\n",
       "      <td>164</td>\n",
       "      <td>Jutta Jokiranta</td>\n",
       "      <td>35</td>\n",
       "      <td>Religious Group (v5)</td>\n",
       "      <td>2014-11-27T22:22:29Z</td>\n",
       "      <td>-150</td>\n",
       "      <td>68</td>\n",
       "      <td>486</td>\n",
       "      <td>Jerusalem and environs</td>\n",
       "      <td>[{'id': 8, 'name': 'Religious Group', 'approve...</td>\n",
       "    </tr>\n",
       "  </tbody>\n",
       "</table>\n",
       "</div>"
      ],
      "text/plain": [
       "   entry_id                      entry_name  expert_id      expert_name  \\\n",
       "0        15                   Northern Song         73    Sarah Primmer   \n",
       "1        23             Late Shang Religion         22   Clayton Ashton   \n",
       "2       173          Johannine Christianity        155    Rikard Roitto   \n",
       "3       174  Matthew-James-Didache Movement        156     Vojtech Kase   \n",
       "4       176                 Qumran Movement        164  Jutta Jokiranta   \n",
       "\n",
       "   poll_id             poll_name          date_created  year_from  year_to  \\\n",
       "0        8                Polity  2014-04-17T05:00:00Z        960     1127   \n",
       "1       35  Religious Group (v5)  2014-04-17T05:00:00Z      -1250    -1045   \n",
       "2       35  Religious Group (v5)  2014-11-27T22:05:55Z         90      120   \n",
       "3       35  Religious Group (v5)  2014-11-27T22:11:25Z         50      160   \n",
       "4       35  Religious Group (v5)  2014-11-27T22:22:29Z       -150       68   \n",
       "\n",
       "   region_id                           region_name  \\\n",
       "0        113                         Northern Song   \n",
       "1          7  Middle and Lower Yellow River Valley   \n",
       "2        483                               Ephesus   \n",
       "3        352                                 Syria   \n",
       "4        486                Jerusalem and environs   \n",
       "\n",
       "                                                tags  \n",
       "0  [{'id': 2, 'name': 'Asia', 'approved': True}, ...  \n",
       "1  [{'id': 8, 'name': 'Religious Group', 'approve...  \n",
       "2  [{'id': 8, 'name': 'Religious Group', 'approve...  \n",
       "3  [{'id': 8, 'name': 'Religious Group', 'approve...  \n",
       "4  [{'id': 8, 'name': 'Religious Group', 'approve...  "
      ]
     },
     "execution_count": 2,
     "metadata": {},
     "output_type": "execute_result"
    }
   ],
   "source": [
    "# default behavior\n",
    "listed_entries = drh.list_entries()  \n",
    "listed_entries.head(5)"
   ]
  },
  {
   "cell_type": "code",
   "execution_count": 3,
   "metadata": {},
   "outputs": [
    {
     "name": "stdout",
     "output_type": "stream",
     "text": [
      "entry: Khalka Mongols (1895-1930) published as a Religious Group (v5) poll\n",
      "by: Emily Pitek (id: 697) on 2018-05-10T16:28:34.382442Z\n",
      "region: Mongolia ca. 1920 (id: 805)\n",
      "\n",
      "\n",
      "entry: Kurd (1926-1955) published as a Religious Group (v6) poll\n",
      "by: Emily Pitek (id: 697) on 2018-08-07T14:21:11.619759Z\n",
      "region: Kurdistan (id: 841)\n",
      "\n",
      "\n"
     ]
    }
   ],
   "source": [
    "# as dictionary with use of all arguments\n",
    "listed_entries = drh.list_entries(\n",
    "    to_dataframe=False,\n",
    "    limit=20,  # maximum 20 entries\n",
    "    start_date=datetime(2018, 1, 1),  # published from 2018-01-01\n",
    "    end_date=\"2019-01-01\",  # to 2019-01-01 (this format also works)\n",
    "    expert=697,  # by expert with id 697\n",
    "    poll=[35, 43],  # in polls with id 35 or 43\n",
    "    region=[805, 841],  # with regions with id 805 or 841\n",
    "    ordering=\"date_created\",  # ordered by date created\n",
    "    offset=0,  # start from the first entry (default)\n",
    ")\n",
    "\n",
    "# verify that this works\n",
    "for i in range(2):\n",
    "    entry_name = listed_entries[\"results\"][i][\"name\"][\"name\"]\n",
    "    date_created = listed_entries[\"results\"][i][\"date_created\"]\n",
    "    expert_id = listed_entries[\"results\"][i][\"expert\"][\"id\"]\n",
    "    expert_first_name = listed_entries[\"results\"][i][\"expert\"][\"first_name\"]\n",
    "    expert_last_name = listed_entries[\"results\"][i][\"expert\"][\"last_name\"]\n",
    "    expert_name = f\"{expert_first_name} {expert_last_name}\"\n",
    "    poll_name = listed_entries[\"results\"][i][\"poll\"][\"name\"]\n",
    "    year_from = listed_entries[\"results\"][i][\"year_from\"]\n",
    "    year_to = listed_entries[\"results\"][i][\"year_to\"]\n",
    "    region = listed_entries[\"results\"][i][\"region\"][\"name\"]\n",
    "    region_id = listed_entries[\"results\"][i][\"region\"][\"id\"]\n",
    "    print(\n",
    "        f\"entry: {entry_name} ({year_from}-{year_to}) published as a {poll_name} poll\"\n",
    "    )\n",
    "    print(f\"by: {expert_name} (id: {expert_id}) on {date_created}\")\n",
    "    print(f\"region: {region} (id: {region_id})\")\n",
    "    print(\"\\n\")"
   ]
  },
  {
   "cell_type": "markdown",
   "metadata": {},
   "source": [
    "## 1.2. list entry tags"
   ]
  },
  {
   "cell_type": "code",
   "execution_count": 4,
   "metadata": {},
   "outputs": [
    {
     "data": {
      "text/html": [
       "<div>\n",
       "<style scoped>\n",
       "    .dataframe tbody tr th:only-of-type {\n",
       "        vertical-align: middle;\n",
       "    }\n",
       "\n",
       "    .dataframe tbody tr th {\n",
       "        vertical-align: top;\n",
       "    }\n",
       "\n",
       "    .dataframe thead th {\n",
       "        text-align: right;\n",
       "    }\n",
       "</style>\n",
       "<table border=\"1\" class=\"dataframe\">\n",
       "  <thead>\n",
       "    <tr style=\"text-align: right;\">\n",
       "      <th></th>\n",
       "      <th>entry_tag_id</th>\n",
       "      <th>entry_tag_name</th>\n",
       "      <th>approved</th>\n",
       "      <th>parent_tag_id</th>\n",
       "      <th>created</th>\n",
       "      <th>created_by_id</th>\n",
       "      <th>created_by_username</th>\n",
       "      <th>created_by_name</th>\n",
       "    </tr>\n",
       "  </thead>\n",
       "  <tbody>\n",
       "    <tr>\n",
       "      <th>0</th>\n",
       "      <td>2</td>\n",
       "      <td>Asia</td>\n",
       "      <td>True</td>\n",
       "      <td>7.0</td>\n",
       "      <td>2016-05-17T02:39:38.090109Z</td>\n",
       "      <td>1</td>\n",
       "      <td>root</td>\n",
       "      <td></td>\n",
       "    </tr>\n",
       "    <tr>\n",
       "      <th>1</th>\n",
       "      <td>3</td>\n",
       "      <td>China</td>\n",
       "      <td>True</td>\n",
       "      <td>2.0</td>\n",
       "      <td>2016-05-17T02:39:38.090109Z</td>\n",
       "      <td>1</td>\n",
       "      <td>root</td>\n",
       "      <td></td>\n",
       "    </tr>\n",
       "    <tr>\n",
       "      <th>2</th>\n",
       "      <td>4</td>\n",
       "      <td>Middle East</td>\n",
       "      <td>True</td>\n",
       "      <td>7.0</td>\n",
       "      <td>2016-05-17T02:39:38.090109Z</td>\n",
       "      <td>1</td>\n",
       "      <td>root</td>\n",
       "      <td></td>\n",
       "    </tr>\n",
       "    <tr>\n",
       "      <th>3</th>\n",
       "      <td>5</td>\n",
       "      <td>South Pacific Ocean</td>\n",
       "      <td>True</td>\n",
       "      <td>7.0</td>\n",
       "      <td>2016-05-17T02:39:38.090109Z</td>\n",
       "      <td>1</td>\n",
       "      <td>root</td>\n",
       "      <td></td>\n",
       "    </tr>\n",
       "    <tr>\n",
       "      <th>4</th>\n",
       "      <td>6</td>\n",
       "      <td>Japan</td>\n",
       "      <td>True</td>\n",
       "      <td>2.0</td>\n",
       "      <td>2016-05-17T02:39:38.090109Z</td>\n",
       "      <td>1</td>\n",
       "      <td>root</td>\n",
       "      <td></td>\n",
       "    </tr>\n",
       "  </tbody>\n",
       "</table>\n",
       "</div>"
      ],
      "text/plain": [
       "   entry_tag_id       entry_tag_name  approved  parent_tag_id  \\\n",
       "0             2                 Asia      True            7.0   \n",
       "1             3                China      True            2.0   \n",
       "2             4          Middle East      True            7.0   \n",
       "3             5  South Pacific Ocean      True            7.0   \n",
       "4             6                Japan      True            2.0   \n",
       "\n",
       "                       created  created_by_id created_by_username  \\\n",
       "0  2016-05-17T02:39:38.090109Z              1                root   \n",
       "1  2016-05-17T02:39:38.090109Z              1                root   \n",
       "2  2016-05-17T02:39:38.090109Z              1                root   \n",
       "3  2016-05-17T02:39:38.090109Z              1                root   \n",
       "4  2016-05-17T02:39:38.090109Z              1                root   \n",
       "\n",
       "  created_by_name  \n",
       "0                  \n",
       "1                  \n",
       "2                  \n",
       "3                  \n",
       "4                  "
      ]
     },
     "execution_count": 4,
     "metadata": {},
     "output_type": "execute_result"
    }
   ],
   "source": [
    "# default\n",
    "listed_entry_tags = drh.list_entry_tags()\n",
    "listed_entry_tags.head(5)"
   ]
  },
  {
   "cell_type": "code",
   "execution_count": 5,
   "metadata": {},
   "outputs": [
    {
     "name": "stdout",
     "output_type": "stream",
     "text": [
      "entry tag: Temple of Confucius (Kong Temple) (id: 1077)\n",
      "published by James Flath (id: 1000) on 2021-01-13T21:13:53.347422Z\n",
      "has been approved: True\n",
      "\n",
      "\n",
      "entry tag: Memorial arch (id: 1078)\n",
      "published by James Flath (id: 1000) on 2021-01-13T21:14:45.423346Z\n",
      "has been approved: True\n",
      "\n",
      "\n"
     ]
    }
   ],
   "source": [
    "# using arguments (and dictionary)\n",
    "listed_entry_tags = drh.list_entry_tags(\n",
    "    to_dataframe=False,\n",
    "    limit=20,  # maximum 20 entries\n",
    "    start_date=datetime(2021, 1, 1),  # published from 2018-01-01\n",
    "    end_date=datetime(2022, 1, 1),  # to 2019-01-01\n",
    "    approved=True,  # only get approved entry tags\n",
    "    created_by=[969, 1000],  # created by experts with these ids\n",
    "    offset=0,  # start from the 6th entry\n",
    "    ordering=\"created\",  # ordered by date created\n",
    ")\n",
    "\n",
    "for i in range(2):\n",
    "    entry_tag_id = listed_entry_tags[\"results\"][i][\"id\"]\n",
    "    entry_tag_name = listed_entry_tags[\"results\"][i][\"name\"]\n",
    "    date_created = listed_entry_tags[\"results\"][i][\"created\"]\n",
    "    expert_id = listed_entry_tags[\"results\"][i][\"created_by\"][\"id\"]\n",
    "    expert_first_name = listed_entry_tags[\"results\"][i][\"created_by\"][\"first_name\"]\n",
    "    expert_last_name = listed_entry_tags[\"results\"][i][\"created_by\"][\"last_name\"]\n",
    "    expert_name = f\"{expert_first_name} {expert_last_name}\"\n",
    "    approved = listed_entry_tags[\"results\"][i][\"approved\"]\n",
    "    print(f\"entry tag: {entry_tag_name} (id: {entry_tag_id})\")\n",
    "    print(f\"published by {expert_name} (id: {expert_id}) on {date_created}\")\n",
    "    print(f\"has been approved: {approved}\")\n",
    "    print(\"\\n\")"
   ]
  },
  {
   "cell_type": "markdown",
   "metadata": {},
   "source": [
    "## 1.3. List regions"
   ]
  },
  {
   "cell_type": "code",
   "execution_count": 6,
   "metadata": {},
   "outputs": [
    {
     "data": {
      "text/html": [
       "<div>\n",
       "<style scoped>\n",
       "    .dataframe tbody tr th:only-of-type {\n",
       "        vertical-align: middle;\n",
       "    }\n",
       "\n",
       "    .dataframe tbody tr th {\n",
       "        vertical-align: top;\n",
       "    }\n",
       "\n",
       "    .dataframe thead th {\n",
       "        text-align: right;\n",
       "    }\n",
       "</style>\n",
       "<table border=\"1\" class=\"dataframe\">\n",
       "  <thead>\n",
       "    <tr style=\"text-align: right;\">\n",
       "      <th></th>\n",
       "      <th>region_id</th>\n",
       "      <th>region_name</th>\n",
       "      <th>description</th>\n",
       "      <th>created_by_id</th>\n",
       "      <th>created_by_name</th>\n",
       "      <th>geom</th>\n",
       "      <th>tags</th>\n",
       "    </tr>\n",
       "  </thead>\n",
       "  <tbody>\n",
       "    <tr>\n",
       "      <th>0</th>\n",
       "      <td>6</td>\n",
       "      <td>Ancient Mediterranean</td>\n",
       "      <td>Ancient Mediterranean tagged with \"Western Eur...</td>\n",
       "      <td>140</td>\n",
       "      <td>Andreas Bendlin</td>\n",
       "      <td>[[[[55.520348384170575, -20.949366318200987], ...</td>\n",
       "      <td>[{'id': 3, 'name': 'Europe'}, {'id': 296, 'nam...</td>\n",
       "    </tr>\n",
       "    <tr>\n",
       "      <th>1</th>\n",
       "      <td>7</td>\n",
       "      <td>Middle and Lower Yellow River Valley</td>\n",
       "      <td>Middle and Lower Yellow River Valley + Areas o...</td>\n",
       "      <td>22</td>\n",
       "      <td>Clayton Ashton</td>\n",
       "      <td>[[[[108.66096496582, 34.34326171875], [116.184...</td>\n",
       "      <td>[{'id': 1, 'name': 'Asia'}, {'id': 37, 'name':...</td>\n",
       "    </tr>\n",
       "    <tr>\n",
       "      <th>2</th>\n",
       "      <td>10</td>\n",
       "      <td>Qin Dynasty boundaries</td>\n",
       "      <td>Qin Dynasty boundaries</td>\n",
       "      <td>3</td>\n",
       "      <td>Carson Logan</td>\n",
       "      <td>[[[[120.41260643779995, 27.15313777327598], [1...</td>\n",
       "      <td>[{'id': 1, 'name': 'Asia'}, {'id': 37, 'name':...</td>\n",
       "    </tr>\n",
       "    <tr>\n",
       "      <th>3</th>\n",
       "      <td>13</td>\n",
       "      <td>Byzantine Empire (395-632)</td>\n",
       "      <td>Byzantine Empire (395-632)</td>\n",
       "      <td>3</td>\n",
       "      <td>Carson Logan</td>\n",
       "      <td>[[[[18.543087244033988, 30.499881505965988], [...</td>\n",
       "      <td>[{'id': 3, 'name': 'Europe'}, {'id': 5, 'name'...</td>\n",
       "    </tr>\n",
       "    <tr>\n",
       "      <th>4</th>\n",
       "      <td>14</td>\n",
       "      <td>Rotuma</td>\n",
       "      <td>Note: Rotuma is a very small island, near Fiji...</td>\n",
       "      <td>1</td>\n",
       "      <td></td>\n",
       "      <td>[[[[177.06265640329, -12.485961914063], [177.1...</td>\n",
       "      <td>[{'id': 13, 'name': 'Oceania'}, {'id': 309, 'n...</td>\n",
       "    </tr>\n",
       "  </tbody>\n",
       "</table>\n",
       "</div>"
      ],
      "text/plain": [
       "   region_id                           region_name  \\\n",
       "0          6                 Ancient Mediterranean   \n",
       "1          7  Middle and Lower Yellow River Valley   \n",
       "2         10                Qin Dynasty boundaries   \n",
       "3         13            Byzantine Empire (395-632)   \n",
       "4         14                                Rotuma   \n",
       "\n",
       "                                         description  created_by_id  \\\n",
       "0  Ancient Mediterranean tagged with \"Western Eur...            140   \n",
       "1  Middle and Lower Yellow River Valley + Areas o...             22   \n",
       "2                             Qin Dynasty boundaries              3   \n",
       "3                         Byzantine Empire (395-632)              3   \n",
       "4  Note: Rotuma is a very small island, near Fiji...              1   \n",
       "\n",
       "   created_by_name                                               geom  \\\n",
       "0  Andreas Bendlin  [[[[55.520348384170575, -20.949366318200987], ...   \n",
       "1   Clayton Ashton  [[[[108.66096496582, 34.34326171875], [116.184...   \n",
       "2     Carson Logan  [[[[120.41260643779995, 27.15313777327598], [1...   \n",
       "3     Carson Logan  [[[[18.543087244033988, 30.499881505965988], [...   \n",
       "4                   [[[[177.06265640329, -12.485961914063], [177.1...   \n",
       "\n",
       "                                                tags  \n",
       "0  [{'id': 3, 'name': 'Europe'}, {'id': 296, 'nam...  \n",
       "1  [{'id': 1, 'name': 'Asia'}, {'id': 37, 'name':...  \n",
       "2  [{'id': 1, 'name': 'Asia'}, {'id': 37, 'name':...  \n",
       "3  [{'id': 3, 'name': 'Europe'}, {'id': 5, 'name'...  \n",
       "4  [{'id': 13, 'name': 'Oceania'}, {'id': 309, 'n...  "
      ]
     },
     "execution_count": 6,
     "metadata": {},
     "output_type": "execute_result"
    }
   ],
   "source": [
    "# default\n",
    "listed_regions = drh.list_regions()\n",
    "listed_regions.head(5)"
   ]
  },
  {
   "cell_type": "code",
   "execution_count": 7,
   "metadata": {},
   "outputs": [
    {
     "name": "stdout",
     "output_type": "stream",
     "text": [
      "region: Metro Vancouver (id: 589)\n",
      "published by   (id: 1) on 2016-03-04T04:24:45.080472Z\n",
      "\n",
      "\n",
      "region: Central Canada & USA (id: 590)\n",
      "published by   (id: 1) on 2016-03-10T01:36:13.810016Z\n",
      "\n",
      "\n"
     ]
    }
   ],
   "source": [
    "# using arguments and dictionary\n",
    "listed_regions = drh.list_regions(\n",
    "    to_dataframe=False,\n",
    "    limit=20,  # maximum 20 entries\n",
    "    start_date=datetime(2015, 6, 1),  # published from 2015-06-01\n",
    "    end_date=datetime(2016, 6, 1),  # to 2016-06-01\n",
    "    created_by=1,  # created by experts with these ids\n",
    "    offset=2,  # start from 3rd entry\n",
    "    ordering=\"created\",  # ordered by date created\n",
    ")\n",
    "\n",
    "# verify that this works\n",
    "# these are published by \"root\" (id: 1) where we do not have a name.\n",
    "for i in range(2):\n",
    "    region_id = listed_regions[\"results\"][i][\"id\"]\n",
    "    region_name = listed_regions[\"results\"][i][\"name\"]\n",
    "    date_created = listed_regions[\"results\"][i][\"date_created\"]\n",
    "    expert_id = listed_regions[\"results\"][i][\"created_by\"][\"id\"]\n",
    "    expert_first_name = listed_regions[\"results\"][i][\"created_by\"][\"first_name\"]\n",
    "    expert_last_name = listed_regions[\"results\"][i][\"created_by\"][\"last_name\"]\n",
    "    expert_name = f\"{expert_first_name} {expert_last_name}\"\n",
    "    print(f\"region: {region_name} (id: {region_id})\")\n",
    "    print(f\"published by {expert_name} (id: {expert_id}) on {date_created}\")\n",
    "    print(\"\\n\")"
   ]
  },
  {
   "cell_type": "markdown",
   "metadata": {},
   "source": [
    "## 1.4. List region tags"
   ]
  },
  {
   "cell_type": "code",
   "execution_count": 8,
   "metadata": {},
   "outputs": [
    {
     "data": {
      "text/html": [
       "<div>\n",
       "<style scoped>\n",
       "    .dataframe tbody tr th:only-of-type {\n",
       "        vertical-align: middle;\n",
       "    }\n",
       "\n",
       "    .dataframe tbody tr th {\n",
       "        vertical-align: top;\n",
       "    }\n",
       "\n",
       "    .dataframe thead th {\n",
       "        text-align: right;\n",
       "    }\n",
       "</style>\n",
       "<table border=\"1\" class=\"dataframe\">\n",
       "  <thead>\n",
       "    <tr style=\"text-align: right;\">\n",
       "      <th></th>\n",
       "      <th>region_tag_id</th>\n",
       "      <th>region_tag_name</th>\n",
       "      <th>approved</th>\n",
       "      <th>parent_tag_id</th>\n",
       "      <th>created</th>\n",
       "      <th>created_by_id</th>\n",
       "      <th>created_by_username</th>\n",
       "      <th>created_by_name</th>\n",
       "    </tr>\n",
       "  </thead>\n",
       "  <tbody>\n",
       "    <tr>\n",
       "      <th>0</th>\n",
       "      <td>1</td>\n",
       "      <td>Asia</td>\n",
       "      <td>True</td>\n",
       "      <td>NaN</td>\n",
       "      <td>2015-09-23T15:50:23.128769Z</td>\n",
       "      <td>1</td>\n",
       "      <td>root</td>\n",
       "      <td></td>\n",
       "    </tr>\n",
       "    <tr>\n",
       "      <th>1</th>\n",
       "      <td>3</td>\n",
       "      <td>Europe</td>\n",
       "      <td>True</td>\n",
       "      <td>NaN</td>\n",
       "      <td>2015-09-23T15:50:23.128769Z</td>\n",
       "      <td>1</td>\n",
       "      <td>root</td>\n",
       "      <td></td>\n",
       "    </tr>\n",
       "    <tr>\n",
       "      <th>2</th>\n",
       "      <td>5</td>\n",
       "      <td>Middle East</td>\n",
       "      <td>True</td>\n",
       "      <td>NaN</td>\n",
       "      <td>2015-09-23T15:50:23.128769Z</td>\n",
       "      <td>1</td>\n",
       "      <td>root</td>\n",
       "      <td></td>\n",
       "    </tr>\n",
       "    <tr>\n",
       "      <th>3</th>\n",
       "      <td>13</td>\n",
       "      <td>Oceania</td>\n",
       "      <td>True</td>\n",
       "      <td>NaN</td>\n",
       "      <td>2015-09-23T15:50:23.128769Z</td>\n",
       "      <td>1</td>\n",
       "      <td>root</td>\n",
       "      <td></td>\n",
       "    </tr>\n",
       "    <tr>\n",
       "      <th>4</th>\n",
       "      <td>14</td>\n",
       "      <td>Africa</td>\n",
       "      <td>True</td>\n",
       "      <td>NaN</td>\n",
       "      <td>2015-09-23T15:50:23.128769Z</td>\n",
       "      <td>1</td>\n",
       "      <td>root</td>\n",
       "      <td></td>\n",
       "    </tr>\n",
       "  </tbody>\n",
       "</table>\n",
       "</div>"
      ],
      "text/plain": [
       "   region_tag_id region_tag_name  approved  parent_tag_id  \\\n",
       "0              1            Asia      True            NaN   \n",
       "1              3          Europe      True            NaN   \n",
       "2              5     Middle East      True            NaN   \n",
       "3             13         Oceania      True            NaN   \n",
       "4             14          Africa      True            NaN   \n",
       "\n",
       "                       created  created_by_id created_by_username  \\\n",
       "0  2015-09-23T15:50:23.128769Z              1                root   \n",
       "1  2015-09-23T15:50:23.128769Z              1                root   \n",
       "2  2015-09-23T15:50:23.128769Z              1                root   \n",
       "3  2015-09-23T15:50:23.128769Z              1                root   \n",
       "4  2015-09-23T15:50:23.128769Z              1                root   \n",
       "\n",
       "  created_by_name  \n",
       "0                  \n",
       "1                  \n",
       "2                  \n",
       "3                  \n",
       "4                  "
      ]
     },
     "execution_count": 8,
     "metadata": {},
     "output_type": "execute_result"
    }
   ],
   "source": [
    "listed_region_tags = drh.list_region_tags()\n",
    "listed_region_tags.head(5)"
   ]
  },
  {
   "cell_type": "code",
   "execution_count": 9,
   "metadata": {},
   "outputs": [
    {
     "name": "stdout",
     "output_type": "stream",
     "text": [
      "region tag: England (id: 379)\n",
      "published by Hazel J. Hunter Blair (id: 745) on 2019-04-17T15:40:26.710649Z\n",
      "has been approved: False\n",
      "\n",
      "\n",
      "region tag: Eastern Himalayas (id: 386)\n",
      "published by Dagmar Schwerk (id: 782) on 2019-11-29T00:20:22.688568Z\n",
      "has been approved: False\n",
      "\n",
      "\n"
     ]
    }
   ],
   "source": [
    "# using arguments\n",
    "listed_region_tags = drh.list_region_tags(\n",
    "    to_dataframe=False,\n",
    "    limit=10,  # maximum 10 entries\n",
    "    start_date=datetime(2019, 1, 1),  # published from 2019\n",
    "    end_date=datetime(2022, 1, 1),  # to 2020\n",
    "    approved=False,  # only get non-approved region tags\n",
    "    created_by=[745, 782],  # created by these experts\n",
    "    offset=0,  # start from the first entry\n",
    "    ordering=\"created\",  # ordered by date created\n",
    ")\n",
    "\n",
    "# verify that this works\n",
    "for i in range(2):\n",
    "    region_tag_id = listed_region_tags[\"results\"][i][\"id\"]\n",
    "    region_tag_name = listed_region_tags[\"results\"][i][\"name\"]\n",
    "    date_created = listed_region_tags[\"results\"][i][\"created\"]\n",
    "    expert_id = listed_region_tags[\"results\"][i][\"created_by\"][\"id\"]\n",
    "    expert_first_name = listed_region_tags[\"results\"][i][\"created_by\"][\"first_name\"]\n",
    "    expert_last_name = listed_region_tags[\"results\"][i][\"created_by\"][\"last_name\"]\n",
    "    expert_name = f\"{expert_first_name} {expert_last_name}\"\n",
    "    approved = listed_region_tags[\"results\"][i][\"approved\"]\n",
    "    print(f\"region tag: {region_tag_name} (id: {region_tag_id})\")\n",
    "    print(f\"published by {expert_name} (id: {expert_id}) on {date_created}\")\n",
    "    print(f\"has been approved: {approved}\")\n",
    "    print(\"\\n\")\n"
   ]
  },
  {
   "cell_type": "markdown",
   "metadata": {},
   "source": [
    "# 2. Find endpoints\n",
    "\n",
    "Find endpoints always by ID: \n",
    "- For entries: entry id\n",
    "- For entry tags: entry tag id. \n",
    "- For regions: region id\n",
    "- For region tags: region tag id\n",
    "\n",
    "Always only returns 1 result."
   ]
  },
  {
   "cell_type": "markdown",
   "metadata": {},
   "source": [
    "## 2.1. Find entry (by entry ID)"
   ]
  },
  {
   "cell_type": "code",
   "execution_count": 10,
   "metadata": {},
   "outputs": [
    {
     "data": {
      "text/plain": [
       "{'id': 23,\n",
       " 'name': {'id': 47, 'name': 'Late Shang Religion'},\n",
       " 'alternative_names': [],\n",
       " 'description': \"This entry was completed by Clayton Ashton, a Ph.D ABD student in early Chinese studies at UBC, utilizing Keightley's relevant published sources. The entry was then printed out and mailed to Keightley for his perusal and editing. Finally, Edward Slingerland visited Keightley at his home in Berkeley on August 13, 2014, discussed the entries for both Shang religion and Shang polity, and noted the edits or additions that Keightley recommended.\",\n",
       " 'external_url': '',\n",
       " 'date_created': '2014-04-17T05:00:00Z',\n",
       " 'date_updated': '2019-07-09T17:55:04.185850Z',\n",
       " 'year_from': -1250,\n",
       " 'year_to': -1045,\n",
       " 'region': {'id': 7,\n",
       "  'name': 'Middle and Lower Yellow River Valley',\n",
       "  'geojson': {'type': 'MultiPolygon',\n",
       "   'coordinates': [[[[108.66096496582, 34.34326171875],\n",
       "      [116.18407845497, 33.867191076279],\n",
       "      [118.98811340332, 37.68310546875],\n",
       "      [118.76838684082, 38.16650390625],\n",
       "      [116.37336730957, 40.40771484375],\n",
       "      [110.08918762207, 40.10009765625],\n",
       "      [108.66096496582, 34.34326171875]]]]},\n",
       "  'description': 'Middle and Lower Yellow River Valley + Areas of North China Plain'}}"
      ]
     },
     "execution_count": 10,
     "metadata": {},
     "output_type": "execute_result"
    }
   ],
   "source": [
    "entry_match = drh.find_entry(23)\n",
    "dict(islice(entry_match.items(), 10))"
   ]
  },
  {
   "cell_type": "markdown",
   "metadata": {},
   "source": [
    "## 2.2. find entry tag (by tag ID)"
   ]
  },
  {
   "cell_type": "code",
   "execution_count": 11,
   "metadata": {},
   "outputs": [
    {
     "data": {
      "text/plain": [
       "{'id': 8,\n",
       " 'name': 'Religious Group',\n",
       " 'approved': True,\n",
       " 'parent_tag_id': None,\n",
       " 'created': '2016-05-17T02:39:38.090109Z',\n",
       " 'created_by': {'id': 1,\n",
       "  'username': 'root',\n",
       "  'first_name': '',\n",
       "  'last_name': ''}}"
      ]
     },
     "execution_count": 11,
     "metadata": {},
     "output_type": "execute_result"
    }
   ],
   "source": [
    "entry_tag_match = drh.find_entry_tag(\"8\")  # also works with string\n",
    "entry_tag_match"
   ]
  },
  {
   "cell_type": "markdown",
   "metadata": {},
   "source": [
    "## 2.3. find region (by region ID)"
   ]
  },
  {
   "cell_type": "code",
   "execution_count": 12,
   "metadata": {},
   "outputs": [
    {
     "data": {
      "text/plain": [
       "{'id': 805,\n",
       " 'name': 'Mongolia ca. 1920',\n",
       " 'date_created': '2018-05-10T16:28:34.362386Z',\n",
       " 'date_modified': '2018-05-10T16:28:34.362537Z',\n",
       " 'description': 'This entry focuses specifically on the Khalkha Mongols of the Narobanchin Temple Territory, in what was historically western Outer Mongolia (now Mongolia). (ca. 1920)',\n",
       " 'additional_info': None,\n",
       " 'created_by': {'id': 697,\n",
       "  'username': 'Emily_Pitek_1525199247',\n",
       "  'first_name': 'Emily',\n",
       "  'last_name': 'Pitek'},\n",
       " 'geom': {'type': 'MultiPolygon',\n",
       "  'coordinates': [[[[96.82245703881323, 47.16352274793011],\n",
       "     [97.21796485131323, 47.16725746445123],\n",
       "     [97.64093848412571, 47.07381077312135],\n",
       "     [97.90461035912574, 46.8864249110966],\n",
       "     [97.53656836693824, 46.57391397896603],\n",
       "     [97.38275977318821, 46.50212059609866],\n",
       "     [96.31159278100075, 46.49455787589096],\n",
       "     [95.92157813256323, 46.60788824114182],\n",
       "     [95.87213965600074, 46.84511187744965],\n",
       "     [96.57526465600073, 47.14858125607304],\n",
       "     [96.82245703881323, 47.16352274793011]]]]},\n",
       " 'tags': [{'id': 1, 'name': 'Asia'},\n",
       "  {'id': 37, 'name': 'East Asia'},\n",
       "  {'id': 210, 'name': 'Mongolia'}],\n",
       " 'completed': True}"
      ]
     },
     "execution_count": 12,
     "metadata": {},
     "output_type": "execute_result"
    }
   ],
   "source": [
    "region_match = drh.find_region(805)\n",
    "dict(islice(region_match.items(), 10))"
   ]
  },
  {
   "cell_type": "markdown",
   "metadata": {},
   "source": [
    "## 2.4. find region tag (by tag ID)"
   ]
  },
  {
   "cell_type": "code",
   "execution_count": 13,
   "metadata": {},
   "outputs": [
    {
     "data": {
      "text/plain": [
       "{'id': 805,\n",
       " 'name': 'Kition',\n",
       " 'approved': True,\n",
       " 'parent_tag_id': 735,\n",
       " 'created': '2022-07-28T08:27:01.152580Z',\n",
       " 'created_by': {'id': 1304,\n",
       "  'username': 'Marina_Toumpouri_1651640835',\n",
       "  'first_name': 'Marina',\n",
       "  'last_name': 'Toumpouri'}}"
      ]
     },
     "execution_count": 13,
     "metadata": {},
     "output_type": "execute_result"
    }
   ],
   "source": [
    "region_tag_match = drh.find_region_tag(805)\n",
    "region_tag_match"
   ]
  },
  {
   "cell_type": "markdown",
   "metadata": {},
   "source": [
    "# 3. Related Questions\n",
    "In the Database of Religious History (DRH) questions can be related to other questions. This typically connects questions across different polls, but can also connect questions within the same poll. These can be extracted through the `get_related_questions()` method. "
   ]
  },
  {
   "cell_type": "code",
   "execution_count": 14,
   "metadata": {},
   "outputs": [
    {
     "data": {
      "text/html": [
       "<div>\n",
       "<style scoped>\n",
       "    .dataframe tbody tr th:only-of-type {\n",
       "        vertical-align: middle;\n",
       "    }\n",
       "\n",
       "    .dataframe tbody tr th {\n",
       "        vertical-align: top;\n",
       "    }\n",
       "\n",
       "    .dataframe thead th {\n",
       "        text-align: right;\n",
       "    }\n",
       "</style>\n",
       "<table border=\"1\" class=\"dataframe\">\n",
       "  <thead>\n",
       "    <tr style=\"text-align: right;\">\n",
       "      <th></th>\n",
       "      <th>question_id</th>\n",
       "      <th>related_question_id</th>\n",
       "    </tr>\n",
       "  </thead>\n",
       "  <tbody>\n",
       "    <tr>\n",
       "      <th>0</th>\n",
       "      <td>2231</td>\n",
       "      <td>2231</td>\n",
       "    </tr>\n",
       "    <tr>\n",
       "      <th>1</th>\n",
       "      <td>4693</td>\n",
       "      <td>2231</td>\n",
       "    </tr>\n",
       "    <tr>\n",
       "      <th>2</th>\n",
       "      <td>2232</td>\n",
       "      <td>2232</td>\n",
       "    </tr>\n",
       "    <tr>\n",
       "      <th>3</th>\n",
       "      <td>4669</td>\n",
       "      <td>2232</td>\n",
       "    </tr>\n",
       "    <tr>\n",
       "      <th>4</th>\n",
       "      <td>6894</td>\n",
       "      <td>2232</td>\n",
       "    </tr>\n",
       "  </tbody>\n",
       "</table>\n",
       "</div>"
      ],
      "text/plain": [
       "   question_id  related_question_id\n",
       "0         2231                 2231\n",
       "1         4693                 2231\n",
       "2         2232                 2232\n",
       "3         4669                 2232\n",
       "4         6894                 2232"
      ]
     },
     "execution_count": 14,
     "metadata": {},
     "output_type": "execute_result"
    }
   ],
   "source": [
    "# default \n",
    "questionrelations = drh.get_related_questions()\n",
    "questionrelations.head(5)"
   ]
  },
  {
   "cell_type": "markdown",
   "metadata": {},
   "source": [
    "By default the method returns a dataframe of `question_id` (primary key) and `related_question_id`, where `related_question_id` is the lowest Question ID within the group of related questions. "
   ]
  },
  {
   "cell_type": "code",
   "execution_count": 15,
   "metadata": {},
   "outputs": [
    {
     "data": {
      "text/html": [
       "<div>\n",
       "<style scoped>\n",
       "    .dataframe tbody tr th:only-of-type {\n",
       "        vertical-align: middle;\n",
       "    }\n",
       "\n",
       "    .dataframe tbody tr th {\n",
       "        vertical-align: top;\n",
       "    }\n",
       "\n",
       "    .dataframe thead th {\n",
       "        text-align: right;\n",
       "    }\n",
       "</style>\n",
       "<table border=\"1\" class=\"dataframe\">\n",
       "  <thead>\n",
       "    <tr style=\"text-align: right;\">\n",
       "      <th></th>\n",
       "      <th>question_id</th>\n",
       "      <th>related_question_id</th>\n",
       "    </tr>\n",
       "  </thead>\n",
       "  <tbody>\n",
       "    <tr>\n",
       "      <th>0</th>\n",
       "      <td>2231</td>\n",
       "      <td>2231</td>\n",
       "    </tr>\n",
       "    <tr>\n",
       "      <th>1</th>\n",
       "      <td>4693</td>\n",
       "      <td>2231</td>\n",
       "    </tr>\n",
       "    <tr>\n",
       "      <th>2</th>\n",
       "      <td>2232</td>\n",
       "      <td>2232</td>\n",
       "    </tr>\n",
       "    <tr>\n",
       "      <th>3</th>\n",
       "      <td>4669</td>\n",
       "      <td>2232</td>\n",
       "    </tr>\n",
       "    <tr>\n",
       "      <th>4</th>\n",
       "      <td>6894</td>\n",
       "      <td>2232</td>\n",
       "    </tr>\n",
       "  </tbody>\n",
       "</table>\n",
       "</div>"
      ],
      "text/plain": [
       "   question_id  related_question_id\n",
       "0         2231                 2231\n",
       "1         4693                 2231\n",
       "2         2232                 2232\n",
       "3         4669                 2232\n",
       "4         6894                 2232"
      ]
     },
     "execution_count": 15,
     "metadata": {},
     "output_type": "execute_result"
    }
   ],
   "source": [
    "# raw data (as dataframe)\n",
    "questionrelations = drh.get_related_questions(simplify=True)\n",
    "questionrelations.head(5)"
   ]
  },
  {
   "cell_type": "markdown",
   "metadata": {},
   "source": [
    "This behavior can be switched by setting `simply=False` to obtain the questionrelations as they are stored in the DRH."
   ]
  },
  {
   "cell_type": "code",
   "execution_count": 16,
   "metadata": {},
   "outputs": [
    {
     "data": {
      "text/plain": [
       "[{'id': 18842, 'first_question_id': 6335, 'second_question_id': 4652},\n",
       " {'id': 18843, 'first_question_id': 6335, 'second_question_id': 5658},\n",
       " {'id': 18844, 'first_question_id': 6335, 'second_question_id': 6335},\n",
       " {'id': 18845, 'first_question_id': 6335, 'second_question_id': 5231},\n",
       " {'id': 18846, 'first_question_id': 6335, 'second_question_id': 3475}]"
      ]
     },
     "execution_count": 16,
     "metadata": {},
     "output_type": "execute_result"
    }
   ],
   "source": [
    "# raw data (as list of dictionary)\n",
    "questionrelations = drh.get_related_questions(to_dataframe=False)\n",
    "questionrelations[0:5]"
   ]
  },
  {
   "cell_type": "markdown",
   "metadata": {},
   "source": [
    "Finally, the data can be obtained as a list of dictionaries with no preprocessing done by the wrapper."
   ]
  },
  {
   "cell_type": "markdown",
   "metadata": {},
   "source": [
    "# 4. Answersets\n",
    "To obtain full answersets use the `get_answerset()` method. This method requires a Question Name and fetches the full answerset for all entries that have this exact question. Question names can be found by browsing https://religiondatabase.org/\n",
    "\n",
    "Note that some questions might be worded differently across different polls (questionnaires). For instance, there is a question called \"Is a spirit-body distinction present:\" (for religious group polls) and a question called \"Is a spirit-body distinction present in the text?\" (for religious text polls). In this case, if you want to use answers from both the Text poll and the Group poll you will need to fetch these answers in two separate calls. "
   ]
  },
  {
   "cell_type": "code",
   "execution_count": 17,
   "metadata": {},
   "outputs": [],
   "source": [
    "question_names = [\n",
    "    \"Is a spirit-body distinction present:\",\n",
    "    \"Is a spirit-body distinction present in the text?\"\n",
    "]\n",
    "\n",
    "# get answersets (this will take a minute)\n",
    "answerset_list = []\n",
    "for question_name in question_names:\n",
    "    answerset = drh.get_answerset(question_name=question_name, to_dataframe=True)\n",
    "    answerset[\"question_name\"] = question_name\n",
    "    answerset_list.append(answerset)\n",
    "\n",
    "# concatenate the answersets\n",
    "answerset_df = pd.concat(answerset_list)"
   ]
  },
  {
   "cell_type": "code",
   "execution_count": 18,
   "metadata": {},
   "outputs": [
    {
     "data": {
      "text/plain": [
       "question_name                                      poll_name            \n",
       "Is a spirit-body distinction present in the text?  Religious Text (v0.1)      1\n",
       "                                                   Religious Text (v1.0)    322\n",
       "Is a spirit-body distinction present:              Religious Group (v5)     218\n",
       "                                                   Religious Group (v6)     681\n",
       "dtype: int64"
      ]
     },
     "execution_count": 18,
     "metadata": {},
     "output_type": "execute_result"
    }
   ],
   "source": [
    "# here we can see that we have successfully matched group and text poll entries\n",
    "answerset_df.groupby(['question_name', 'poll_name']).size()"
   ]
  },
  {
   "cell_type": "code",
   "execution_count": 19,
   "metadata": {},
   "outputs": [
    {
     "data": {
      "text/plain": [
       "entry_id                int64\n",
       "entry_name             object\n",
       "poll_id                 int64\n",
       "poll_name              object\n",
       "question_id             int64\n",
       "answer_name            object\n",
       "answer_value            int64\n",
       "year_from               int64\n",
       "year_to                 int64\n",
       "region_id               int64\n",
       "status_participants    object\n",
       "expert_id               int64\n",
       "expert_name            object\n",
       "date_created           object\n",
       "question_name          object\n",
       "dtype: object"
      ]
     },
     "execution_count": 19,
     "metadata": {},
     "output_type": "execute_result"
    }
   ],
   "source": [
    "# check dtypes for this endpoint as it is important\n",
    "answerset_df.dtypes"
   ]
  },
  {
   "cell_type": "markdown",
   "metadata": {},
   "source": [
    "This endpoint provides the key information that is tied to answers. Note that while entries have an overall (default) `date-range`, `region`, `and status of participants`, this information can be provided specifically for answers to individual questions. While the overall (default) information for entries can be obtained through the `list_entries()` method, the `get_answerset()` method provides this at question-level."
   ]
  },
  {
   "cell_type": "markdown",
   "metadata": {},
   "source": [
    "# 5. Utility \n",
    "Construct dataframe with all essential information on an entry in the DRH: \n",
    "- answers to questions\n",
    "- metadata (e.g., expert, editor, etc.)\n",
    "- temporal span and geographical information (incl. geom)\n",
    "\n",
    "Everything below depends on the endpoint `find_entry()` which does not scale well with many calls. We recommend using the endnpoint `get_answerset()` described above instead. "
   ]
  },
  {
   "cell_type": "markdown",
   "metadata": {},
   "source": [
    "## 5.1. Entries"
   ]
  },
  {
   "cell_type": "markdown",
   "metadata": {},
   "source": [
    "### 5.1.1. get entry information from list\n",
    "`drh.dataframe_from_entry_id_list()` gathers all information from the `drh.find_entry()` method for all entry IDs provided and returns as a dataframe. "
   ]
  },
  {
   "cell_type": "code",
   "execution_count": 20,
   "metadata": {},
   "outputs": [
    {
     "name": "stderr",
     "output_type": "stream",
     "text": [
      "100%|██████████| 10/10 [00:39<00:00,  3.98s/it]\n"
     ]
    }
   ],
   "source": [
    "listed_entries = drh.list_entries(limit=10, offset=500)\n",
    "entry_id_list = listed_entries['entry_id'].unique()\n",
    "df_entries = drh.dataframe_from_entry_id_list(entry_id_list)"
   ]
  },
  {
   "cell_type": "code",
   "execution_count": 21,
   "metadata": {},
   "outputs": [
    {
     "data": {
      "text/html": [
       "<div>\n",
       "<style scoped>\n",
       "    .dataframe tbody tr th:only-of-type {\n",
       "        vertical-align: middle;\n",
       "    }\n",
       "\n",
       "    .dataframe tbody tr th {\n",
       "        vertical-align: top;\n",
       "    }\n",
       "\n",
       "    .dataframe thead th {\n",
       "        text-align: right;\n",
       "    }\n",
       "</style>\n",
       "<table border=\"1\" class=\"dataframe\">\n",
       "  <thead>\n",
       "    <tr style=\"text-align: right;\">\n",
       "      <th></th>\n",
       "      <th>entry_id</th>\n",
       "      <th>entry_name</th>\n",
       "      <th>description</th>\n",
       "      <th>year_from</th>\n",
       "      <th>year_to</th>\n",
       "      <th>region</th>\n",
       "      <th>poll</th>\n",
       "      <th>tags</th>\n",
       "      <th>categories</th>\n",
       "    </tr>\n",
       "  </thead>\n",
       "  <tbody>\n",
       "    <tr>\n",
       "      <th>0</th>\n",
       "      <td>939</td>\n",
       "      <td>Goodenough and Fergusson Islanders</td>\n",
       "      <td>The Goodenough and Fergussoon Islands are in t...</td>\n",
       "      <td>1875</td>\n",
       "      <td>1900</td>\n",
       "      <td>{'id': 1085, 'name': 'Goodenough Island - Nort...</td>\n",
       "      <td>{'id': 43, 'name': 'Religious Group (v6)', 'de...</td>\n",
       "      <td>[{'id': 8, 'name': 'Religious Group'}, {'id': ...</td>\n",
       "      <td>[{'id': 77, 'name': 'Sources', 'groups': [], '...</td>\n",
       "    </tr>\n",
       "    <tr>\n",
       "      <th>1</th>\n",
       "      <td>940</td>\n",
       "      <td>Julio-Claudian Imperial Cult</td>\n",
       "      <td>The term ‘imperial cult’ refers to the worship...</td>\n",
       "      <td>-31</td>\n",
       "      <td>68</td>\n",
       "      <td>{'id': 132, 'name': 'Roman Empire (Greatest Ex...</td>\n",
       "      <td>{'id': 43, 'name': 'Religious Group (v6)', 'de...</td>\n",
       "      <td>[{'id': 8, 'name': 'Religious Group'}, {'id': ...</td>\n",
       "      <td>[{'id': 77, 'name': 'Sources', 'groups': [], '...</td>\n",
       "    </tr>\n",
       "    <tr>\n",
       "      <th>2</th>\n",
       "      <td>941</td>\n",
       "      <td>Chan Buddhists in early Qing period</td>\n",
       "      <td>Chan Buddhists refer to the religious practiti...</td>\n",
       "      <td>1600</td>\n",
       "      <td>1700</td>\n",
       "      <td>{'id': 1087, 'name': 'China in the seventeenth...</td>\n",
       "      <td>{'id': 43, 'name': 'Religious Group (v6)', 'de...</td>\n",
       "      <td>[{'id': 8, 'name': 'Religious Group'}, {'id': ...</td>\n",
       "      <td>[{'id': 77, 'name': 'Sources', 'groups': [], '...</td>\n",
       "    </tr>\n",
       "  </tbody>\n",
       "</table>\n",
       "</div>"
      ],
      "text/plain": [
       "   entry_id                           entry_name  \\\n",
       "0       939   Goodenough and Fergusson Islanders   \n",
       "1       940         Julio-Claudian Imperial Cult   \n",
       "2       941  Chan Buddhists in early Qing period   \n",
       "\n",
       "                                         description  year_from  year_to  \\\n",
       "0  The Goodenough and Fergussoon Islands are in t...       1875     1900   \n",
       "1  The term ‘imperial cult’ refers to the worship...        -31       68   \n",
       "2  Chan Buddhists refer to the religious practiti...       1600     1700   \n",
       "\n",
       "                                              region  \\\n",
       "0  {'id': 1085, 'name': 'Goodenough Island - Nort...   \n",
       "1  {'id': 132, 'name': 'Roman Empire (Greatest Ex...   \n",
       "2  {'id': 1087, 'name': 'China in the seventeenth...   \n",
       "\n",
       "                                                poll  \\\n",
       "0  {'id': 43, 'name': 'Religious Group (v6)', 'de...   \n",
       "1  {'id': 43, 'name': 'Religious Group (v6)', 'de...   \n",
       "2  {'id': 43, 'name': 'Religious Group (v6)', 'de...   \n",
       "\n",
       "                                                tags  \\\n",
       "0  [{'id': 8, 'name': 'Religious Group'}, {'id': ...   \n",
       "1  [{'id': 8, 'name': 'Religious Group'}, {'id': ...   \n",
       "2  [{'id': 8, 'name': 'Religious Group'}, {'id': ...   \n",
       "\n",
       "                                          categories  \n",
       "0  [{'id': 77, 'name': 'Sources', 'groups': [], '...  \n",
       "1  [{'id': 77, 'name': 'Sources', 'groups': [], '...  \n",
       "2  [{'id': 77, 'name': 'Sources', 'groups': [], '...  "
      ]
     },
     "execution_count": 21,
     "metadata": {},
     "output_type": "execute_result"
    }
   ],
   "source": [
    "# show some of the important columns\n",
    "df_entries[['entry_id', 'entry_name', 'description', 'year_from', 'year_to', 'region', 'poll', 'tags', 'categories']].head(3)"
   ]
  },
  {
   "cell_type": "markdown",
   "metadata": {},
   "source": [
    "### 5.1.2. extract key entry (metadata) information\n",
    "Utility function to clean the dataframe and return key columns."
   ]
  },
  {
   "cell_type": "code",
   "execution_count": 22,
   "metadata": {},
   "outputs": [
    {
     "data": {
      "text/html": [
       "<div>\n",
       "<style scoped>\n",
       "    .dataframe tbody tr th:only-of-type {\n",
       "        vertical-align: middle;\n",
       "    }\n",
       "\n",
       "    .dataframe tbody tr th {\n",
       "        vertical-align: top;\n",
       "    }\n",
       "\n",
       "    .dataframe thead th {\n",
       "        text-align: right;\n",
       "    }\n",
       "</style>\n",
       "<table border=\"1\" class=\"dataframe\">\n",
       "  <thead>\n",
       "    <tr style=\"text-align: right;\">\n",
       "      <th></th>\n",
       "      <th>entry_id</th>\n",
       "      <th>entry_name</th>\n",
       "      <th>description</th>\n",
       "      <th>date_created</th>\n",
       "      <th>year_from</th>\n",
       "      <th>year_to</th>\n",
       "      <th>region_id</th>\n",
       "      <th>region_name</th>\n",
       "      <th>expert_id</th>\n",
       "      <th>expert_name</th>\n",
       "      <th>poll_id</th>\n",
       "      <th>poll_name</th>\n",
       "    </tr>\n",
       "  </thead>\n",
       "  <tbody>\n",
       "    <tr>\n",
       "      <th>0</th>\n",
       "      <td>939</td>\n",
       "      <td>Goodenough and Fergusson Islanders</td>\n",
       "      <td>The Goodenough and Fergussoon Islands are in t...</td>\n",
       "      <td>2020-08-04T03:44:24.479188Z</td>\n",
       "      <td>1875</td>\n",
       "      <td>1900</td>\n",
       "      <td>1085</td>\n",
       "      <td>Goodenough Island - Northern D'Entrecasteaux</td>\n",
       "      <td>710</td>\n",
       "      <td>Thomas White</td>\n",
       "      <td>43</td>\n",
       "      <td>Religious Group (v6)</td>\n",
       "    </tr>\n",
       "    <tr>\n",
       "      <th>1</th>\n",
       "      <td>940</td>\n",
       "      <td>Julio-Claudian Imperial Cult</td>\n",
       "      <td>The term ‘imperial cult’ refers to the worship...</td>\n",
       "      <td>2020-08-04T16:30:00.660649Z</td>\n",
       "      <td>-31</td>\n",
       "      <td>68</td>\n",
       "      <td>132</td>\n",
       "      <td>Roman Empire (Greatest Extent)</td>\n",
       "      <td>892</td>\n",
       "      <td>Treasa Bell</td>\n",
       "      <td>43</td>\n",
       "      <td>Religious Group (v6)</td>\n",
       "    </tr>\n",
       "  </tbody>\n",
       "</table>\n",
       "</div>"
      ],
      "text/plain": [
       "   entry_id                          entry_name  \\\n",
       "0       939  Goodenough and Fergusson Islanders   \n",
       "1       940        Julio-Claudian Imperial Cult   \n",
       "\n",
       "                                         description  \\\n",
       "0  The Goodenough and Fergussoon Islands are in t...   \n",
       "1  The term ‘imperial cult’ refers to the worship...   \n",
       "\n",
       "                  date_created  year_from  year_to  region_id  \\\n",
       "0  2020-08-04T03:44:24.479188Z       1875     1900       1085   \n",
       "1  2020-08-04T16:30:00.660649Z        -31       68        132   \n",
       "\n",
       "                                    region_name  expert_id   expert_name  \\\n",
       "0  Goodenough Island - Northern D'Entrecasteaux        710  Thomas White   \n",
       "1                Roman Empire (Greatest Extent)        892   Treasa Bell   \n",
       "\n",
       "   poll_id             poll_name  \n",
       "0       43  Religious Group (v6)  \n",
       "1       43  Religious Group (v6)  "
      ]
     },
     "execution_count": 22,
     "metadata": {},
     "output_type": "execute_result"
    }
   ],
   "source": [
    "df_entries_clean = drh.extract_entry_information(df_entries)\n",
    "df_entries_clean.head(2)"
   ]
  },
  {
   "cell_type": "markdown",
   "metadata": {},
   "source": [
    "### 5.1.3. Finding answers (categories)\n",
    "It is possible to manually extract the answerset through the `categories` column (or key, value in dictionary). \n",
    "However, this is difficult given the organization and it is recommended to use the implemented method for this. "
   ]
  },
  {
   "cell_type": "code",
   "execution_count": 23,
   "metadata": {},
   "outputs": [
    {
     "data": {
      "text/html": [
       "<div>\n",
       "<style scoped>\n",
       "    .dataframe tbody tr th:only-of-type {\n",
       "        vertical-align: middle;\n",
       "    }\n",
       "\n",
       "    .dataframe tbody tr th {\n",
       "        vertical-align: top;\n",
       "    }\n",
       "\n",
       "    .dataframe thead th {\n",
       "        text-align: right;\n",
       "    }\n",
       "</style>\n",
       "<table border=\"1\" class=\"dataframe\">\n",
       "  <thead>\n",
       "    <tr style=\"text-align: right;\">\n",
       "      <th></th>\n",
       "      <th>entry_id</th>\n",
       "      <th>entry_name</th>\n",
       "      <th>question_id</th>\n",
       "      <th>question_name</th>\n",
       "      <th>answer_set_year_from</th>\n",
       "      <th>answer_set_year_to</th>\n",
       "      <th>answer_set_region_id</th>\n",
       "      <th>answer_name</th>\n",
       "      <th>answer_value</th>\n",
       "    </tr>\n",
       "  </thead>\n",
       "  <tbody>\n",
       "    <tr>\n",
       "      <th>100</th>\n",
       "      <td>939</td>\n",
       "      <td>Goodenough and Fergusson Islanders</td>\n",
       "      <td>5132</td>\n",
       "      <td>Does membership in this religious group requir...</td>\n",
       "      <td>1875</td>\n",
       "      <td>1900</td>\n",
       "      <td>1085</td>\n",
       "      <td>No</td>\n",
       "      <td>0</td>\n",
       "    </tr>\n",
       "    <tr>\n",
       "      <th>101</th>\n",
       "      <td>939</td>\n",
       "      <td>Goodenough and Fergusson Islanders</td>\n",
       "      <td>5137</td>\n",
       "      <td>Does membership in this religious group requir...</td>\n",
       "      <td>1875</td>\n",
       "      <td>1900</td>\n",
       "      <td>1085</td>\n",
       "      <td>No</td>\n",
       "      <td>0</td>\n",
       "    </tr>\n",
       "    <tr>\n",
       "      <th>102</th>\n",
       "      <td>939</td>\n",
       "      <td>Goodenough and Fergusson Islanders</td>\n",
       "      <td>5142</td>\n",
       "      <td>Does membership in this religious group requir...</td>\n",
       "      <td>1875</td>\n",
       "      <td>1900</td>\n",
       "      <td>1085</td>\n",
       "      <td>No</td>\n",
       "      <td>0</td>\n",
       "    </tr>\n",
       "  </tbody>\n",
       "</table>\n",
       "</div>"
      ],
      "text/plain": [
       "     entry_id                          entry_name  question_id  \\\n",
       "100       939  Goodenough and Fergusson Islanders         5132   \n",
       "101       939  Goodenough and Fergusson Islanders         5137   \n",
       "102       939  Goodenough and Fergusson Islanders         5142   \n",
       "\n",
       "                                         question_name  answer_set_year_from  \\\n",
       "100  Does membership in this religious group requir...                  1875   \n",
       "101  Does membership in this religious group requir...                  1875   \n",
       "102  Does membership in this religious group requir...                  1875   \n",
       "\n",
       "     answer_set_year_to  answer_set_region_id answer_name  answer_value  \n",
       "100                1900                  1085          No             0  \n",
       "101                1900                  1085          No             0  \n",
       "102                1900                  1085          No             0  "
      ]
     },
     "execution_count": 23,
     "metadata": {},
     "output_type": "execute_result"
    }
   ],
   "source": [
    "answerset = drh.extract_answer_information(df_entries) # cannot be df_entries_clean because the full answerset is omitted in the metadata\n",
    "answerset[['entry_id', 'entry_name', 'question_id', 'question_name', 'answer_set_year_from', 'answer_set_year_to', 'answer_set_region_id', 'answer_name', 'answer_value']].iloc[100:103]"
   ]
  },
  {
   "cell_type": "markdown",
   "metadata": {},
   "source": [
    "## 5.2. Extract regions "
   ]
  },
  {
   "cell_type": "code",
   "execution_count": 24,
   "metadata": {},
   "outputs": [
    {
     "data": {
      "text/html": [
       "<div>\n",
       "<style scoped>\n",
       "    .dataframe tbody tr th:only-of-type {\n",
       "        vertical-align: middle;\n",
       "    }\n",
       "\n",
       "    .dataframe tbody tr th {\n",
       "        vertical-align: top;\n",
       "    }\n",
       "\n",
       "    .dataframe thead th {\n",
       "        text-align: right;\n",
       "    }\n",
       "</style>\n",
       "<table border=\"1\" class=\"dataframe\">\n",
       "  <thead>\n",
       "    <tr style=\"text-align: right;\">\n",
       "      <th></th>\n",
       "      <th>entry_id</th>\n",
       "      <th>entry_name</th>\n",
       "      <th>region_id</th>\n",
       "      <th>region_name</th>\n",
       "      <th>region_geom</th>\n",
       "      <th>region_description</th>\n",
       "    </tr>\n",
       "  </thead>\n",
       "  <tbody>\n",
       "    <tr>\n",
       "      <th>0</th>\n",
       "      <td>939</td>\n",
       "      <td>Goodenough and Fergusson Islanders</td>\n",
       "      <td>1085</td>\n",
       "      <td>Goodenough Island - Northern D'Entrecasteaux</td>\n",
       "      <td>[[[[150.1518790210183, -9.176727171355626], [1...</td>\n",
       "      <td>An island in the North-West of the D'Entrecast...</td>\n",
       "    </tr>\n",
       "    <tr>\n",
       "      <th>1</th>\n",
       "      <td>940</td>\n",
       "      <td>Julio-Claudian Imperial Cult</td>\n",
       "      <td>132</td>\n",
       "      <td>Roman Empire (Greatest Extent)</td>\n",
       "      <td>[[[[-9.964599609375, 30.473929840535313], [-9....</td>\n",
       "      <td>Most of Western Europe and the Mediterranean, ...</td>\n",
       "    </tr>\n",
       "    <tr>\n",
       "      <th>2</th>\n",
       "      <td>941</td>\n",
       "      <td>Chan Buddhists in early Qing period</td>\n",
       "      <td>1087</td>\n",
       "      <td>China in the seventeenth century</td>\n",
       "      <td>[[[[121.77169738544389, 38.978728863436245], [...</td>\n",
       "      <td>Here the territory mainly refers to China prop...</td>\n",
       "    </tr>\n",
       "    <tr>\n",
       "      <th>3</th>\n",
       "      <td>942</td>\n",
       "      <td>African Methodist Episcopal Church</td>\n",
       "      <td>1095</td>\n",
       "      <td>North America, South America, Caribbean, Asia,...</td>\n",
       "      <td>[[[[-117.521637150959, 32.55075325113483], [-1...</td>\n",
       "      <td>While the denomination originated in the North...</td>\n",
       "    </tr>\n",
       "    <tr>\n",
       "      <th>4</th>\n",
       "      <td>943</td>\n",
       "      <td>Moravian Missionaries in Nunatsiavut</td>\n",
       "      <td>1091</td>\n",
       "      <td>Nunatsiavut and Labrador</td>\n",
       "      <td>[[[[-65.6836080551147, 61.31245157483824], [-6...</td>\n",
       "      <td>This region consists of Nunatsiavut, the Inuit...</td>\n",
       "    </tr>\n",
       "  </tbody>\n",
       "</table>\n",
       "</div>"
      ],
      "text/plain": [
       "   entry_id                            entry_name  region_id  \\\n",
       "0       939    Goodenough and Fergusson Islanders       1085   \n",
       "1       940          Julio-Claudian Imperial Cult        132   \n",
       "2       941   Chan Buddhists in early Qing period       1087   \n",
       "3       942    African Methodist Episcopal Church       1095   \n",
       "4       943  Moravian Missionaries in Nunatsiavut       1091   \n",
       "\n",
       "                                         region_name  \\\n",
       "0       Goodenough Island - Northern D'Entrecasteaux   \n",
       "1                     Roman Empire (Greatest Extent)   \n",
       "2                   China in the seventeenth century   \n",
       "3  North America, South America, Caribbean, Asia,...   \n",
       "4                           Nunatsiavut and Labrador   \n",
       "\n",
       "                                         region_geom  \\\n",
       "0  [[[[150.1518790210183, -9.176727171355626], [1...   \n",
       "1  [[[[-9.964599609375, 30.473929840535313], [-9....   \n",
       "2  [[[[121.77169738544389, 38.978728863436245], [...   \n",
       "3  [[[[-117.521637150959, 32.55075325113483], [-1...   \n",
       "4  [[[[-65.6836080551147, 61.31245157483824], [-6...   \n",
       "\n",
       "                                  region_description  \n",
       "0  An island in the North-West of the D'Entrecast...  \n",
       "1  Most of Western Europe and the Mediterranean, ...  \n",
       "2  Here the territory mainly refers to China prop...  \n",
       "3  While the denomination originated in the North...  \n",
       "4  This region consists of Nunatsiavut, the Inuit...  "
      ]
     },
     "execution_count": 24,
     "metadata": {},
     "output_type": "execute_result"
    }
   ],
   "source": [
    "regions = drh.extract_region_information(df_entries)\n",
    "regions.head(5)"
   ]
  },
  {
   "cell_type": "markdown",
   "metadata": {},
   "source": [
    "## 5.3. Extract entry tags"
   ]
  },
  {
   "cell_type": "code",
   "execution_count": 25,
   "metadata": {},
   "outputs": [
    {
     "data": {
      "text/html": [
       "<div>\n",
       "<style scoped>\n",
       "    .dataframe tbody tr th:only-of-type {\n",
       "        vertical-align: middle;\n",
       "    }\n",
       "\n",
       "    .dataframe tbody tr th {\n",
       "        vertical-align: top;\n",
       "    }\n",
       "\n",
       "    .dataframe thead th {\n",
       "        text-align: right;\n",
       "    }\n",
       "</style>\n",
       "<table border=\"1\" class=\"dataframe\">\n",
       "  <thead>\n",
       "    <tr style=\"text-align: right;\">\n",
       "      <th></th>\n",
       "      <th>entry_id</th>\n",
       "      <th>entry_name</th>\n",
       "      <th>entry_tag_id</th>\n",
       "      <th>entry_tag_name</th>\n",
       "    </tr>\n",
       "  </thead>\n",
       "  <tbody>\n",
       "    <tr>\n",
       "      <th>0</th>\n",
       "      <td>939</td>\n",
       "      <td>Goodenough and Fergusson Islanders</td>\n",
       "      <td>8</td>\n",
       "      <td>Religious Group</td>\n",
       "    </tr>\n",
       "    <tr>\n",
       "      <th>0</th>\n",
       "      <td>939</td>\n",
       "      <td>Goodenough and Fergusson Islanders</td>\n",
       "      <td>40</td>\n",
       "      <td>Oceanic Religions</td>\n",
       "    </tr>\n",
       "    <tr>\n",
       "      <th>0</th>\n",
       "      <td>939</td>\n",
       "      <td>Goodenough and Fergusson Islanders</td>\n",
       "      <td>311</td>\n",
       "      <td>Melanesia</td>\n",
       "    </tr>\n",
       "    <tr>\n",
       "      <th>0</th>\n",
       "      <td>939</td>\n",
       "      <td>Goodenough and Fergusson Islanders</td>\n",
       "      <td>798</td>\n",
       "      <td>Kastom</td>\n",
       "    </tr>\n",
       "    <tr>\n",
       "      <th>1</th>\n",
       "      <td>940</td>\n",
       "      <td>Julio-Claudian Imperial Cult</td>\n",
       "      <td>8</td>\n",
       "      <td>Religious Group</td>\n",
       "    </tr>\n",
       "  </tbody>\n",
       "</table>\n",
       "</div>"
      ],
      "text/plain": [
       "   entry_id                          entry_name  entry_tag_id  \\\n",
       "0       939  Goodenough and Fergusson Islanders             8   \n",
       "0       939  Goodenough and Fergusson Islanders            40   \n",
       "0       939  Goodenough and Fergusson Islanders           311   \n",
       "0       939  Goodenough and Fergusson Islanders           798   \n",
       "1       940        Julio-Claudian Imperial Cult             8   \n",
       "\n",
       "      entry_tag_name  \n",
       "0    Religious Group  \n",
       "0  Oceanic Religions  \n",
       "0          Melanesia  \n",
       "0             Kastom  \n",
       "1    Religious Group  "
      ]
     },
     "execution_count": 25,
     "metadata": {},
     "output_type": "execute_result"
    }
   ],
   "source": [
    "entry_tags = drh.extract_entry_tags(df_entries)\n",
    "entry_tags.head(5)"
   ]
  }
 ],
 "metadata": {
  "kernelspec": {
   "display_name": "drhenv",
   "language": "python",
   "name": "python3"
  },
  "language_info": {
   "codemirror_mode": {
    "name": "ipython",
    "version": 3
   },
   "file_extension": ".py",
   "mimetype": "text/x-python",
   "name": "python",
   "nbconvert_exporter": "python",
   "pygments_lexer": "ipython3",
   "version": "3.10.12"
  }
 },
 "nbformat": 4,
 "nbformat_minor": 2
}
